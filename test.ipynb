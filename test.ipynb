{
 "cells": [
  {
   "cell_type": "code",
   "execution_count": 1,
   "metadata": {},
   "outputs": [],
   "source": [
    "from app.database.requests.setters_and_getters import get_all_organizations"
   ]
  },
  {
   "cell_type": "code",
   "execution_count": 27,
   "metadata": {},
   "outputs": [
    {
     "name": "stdout",
     "output_type": "stream",
     "text": [
      "2025-03-10 21:25:38,956 INFO sqlalchemy.engine.Engine BEGIN (implicit)\n",
      "2025-03-10 21:25:38,957 INFO sqlalchemy.engine.Engine SELECT organizations.id, organizations.invite_code, organizations.tg_id, organizations.name, organizations.legal_address, organizations.quote, organizations.class_quote \n",
      "FROM organizations\n",
      "2025-03-10 21:25:38,958 INFO sqlalchemy.engine.Engine [cached since 273.8s ago] ()\n",
      "2025-03-10 21:25:38,960 INFO sqlalchemy.engine.Engine ROLLBACK\n"
     ]
    }
   ],
   "source": [
    "organizations = await get_all_organizations()"
   ]
  },
  {
   "cell_type": "code",
   "execution_count": 28,
   "metadata": {},
   "outputs": [],
   "source": [
    "organization = organizations.all()"
   ]
  },
  {
   "cell_type": "code",
   "execution_count": null,
   "metadata": {},
   "outputs": [],
   "source": []
  }
 ],
 "metadata": {
  "kernelspec": {
   "display_name": ".venv",
   "language": "python",
   "name": "python3"
  },
  "language_info": {
   "codemirror_mode": {
    "name": "ipython",
    "version": 3
   },
   "file_extension": ".py",
   "mimetype": "text/x-python",
   "name": "python",
   "nbconvert_exporter": "python",
   "pygments_lexer": "ipython3",
   "version": "3.12.5"
  }
 },
 "nbformat": 4,
 "nbformat_minor": 2
}
