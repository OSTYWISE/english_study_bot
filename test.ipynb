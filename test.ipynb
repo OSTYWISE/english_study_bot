{
 "cells": [
  {
   "cell_type": "markdown",
   "metadata": {},
   "source": [
    "## Это тестовый файл для тестирования любых новых вещей без специфики"
   ]
  },
  {
   "cell_type": "code",
   "execution_count": 1,
   "metadata": {},
   "outputs": [],
   "source": [
    "import os\n",
    "import re\n",
    "import json\n",
    "import requests\n",
    "\n",
    "import pandas as pd\n",
    "from dotenv import load_dotenv"
   ]
  },
  {
   "cell_type": "markdown",
   "metadata": {},
   "source": [
    "From Yagpt prokachka file: "
   ]
  },
  {
   "cell_type": "code",
   "execution_count": 2,
   "metadata": {},
   "outputs": [],
   "source": [
    "load_dotenv()\n",
    "\n",
    "TOGETHER_API_KEY = os.getenv(\"TOGETHER_API_KEY\")\n",
    "URL = \"https://llm.api.cloud.yandex.net/foundationModels/v1/completion\"\n",
    "CATALOGUE_ID =  os.getenv(\"YC_CATALOGUE_ID\")\n",
    "IAM_TOKEN = os.getenv(\"IAM_TOKEN\")\n",
    "OAUTH_TOKEN = os.getenv(\"YANDEX_OAUTH_TOKEN\")\n",
    "user_text = \"Сгенерируй задачу по математике с решением для ученика 11 класса\""
   ]
  },
  {
   "cell_type": "code",
   "execution_count": 3,
   "metadata": {},
   "outputs": [],
   "source": [
    "# result = requests.post(url=\"https://iam.api.cloud.yandex.net/iam/v1/tokens\", json={\"yandexPassportOauthToken\": OAUTH_TOKEN})\n",
    "# new_iam_token = result.json().get('iamToken')\n",
    "# IAM_TOKEN = new_iam_token"
   ]
  },
  {
   "cell_type": "code",
   "execution_count": 4,
   "metadata": {},
   "outputs": [],
   "source": [
    "# IAM_TOKEN"
   ]
  },
  {
   "cell_type": "code",
   "execution_count": 5,
   "metadata": {},
   "outputs": [],
   "source": [
    "text_result = r\"\"\"```\n",
    "{\n",
    "    \"question1\": {\n",
    "        \"question\": \"Who is the protagonist of the story?\",\n",
    "        \"options\": \"a) Dr. Yu Tsun\\nb) Captain Richard Madden\\nc) Stephen Albert\\nd) Ts'ui Pen\",\n",
    "        \"correct_answer\": \"a\"\n",
    "    },\n",
    "    \"question2\": {\n",
    "        \"question\": \"What is the name of the person that Dr. Yu Tsun seeks to meet in Ashgrove?\",\n",
    "        \"options\": \"a) Captain Richard Madden\\nb) Viktor Runeberg\\nc) Dr. Stephen Albert\\nd) Hsi P'eng\",\n",
    "        \"correct_answer\": \"c\"\n",
    "    },\n",
    "    \"question3\": {\n",
    "        \"question\": \"What does Dr. Yu Tsun have that could compromise him?\",\n",
    "        \"options\": \"a) A letter from Viktor Runeberg\\nb) A revolver with a single bullet\\nc) Keys to Runeberg's office\\nd) All of the above\",\n",
    "        \"correct_answer\": \"d\"\n",
    "    },\n",
    "    \"question4\": {\n",
    "        \"question\": \"Why does Dr. Yu Tsun decide to visit Stephen Albert?\",\n",
    "        \"options\": \"a) To seek refuge\\nb) To discuss the novel by Ts'ui Pen\\nc) To pass on the name of the artillery park\\nd) To learn about the garden of forking paths\",\n",
    "        \"correct_answer\": \"c\"\n",
    "    },\n",
    "    \"question5\": {\n",
    "        \"question\": \"How does Dr. Yu Tsun ultimately convey the secret information to Berlin?\",\n",
    "        \"options\": \"a) By sending a telegram\\nb) By calling on the phone\\nc) By killing Stephen Albert\\nd) Through a coded message in a newspaper\",\n",
    "        \"correct_answer\": \"c\"\n",
    "    }\n",
    "    \n",
    "}```\"\"\""
   ]
  },
  {
   "cell_type": "code",
   "execution_count": 6,
   "metadata": {},
   "outputs": [
    {
     "name": "stdout",
     "output_type": "stream",
     "text": [
      "[{'question': 'Who is the protagonist of the story?', 'options': ['Dr. Yu Tsun', 'Captain Richard Madden', 'Stephen Albert', \"Ts'ui Pen\"], 'correct_answer': 1}, {'question': 'What is the name of the person that Dr. Yu Tsun seeks to meet in Ashgrove?', 'options': ['Captain Richard Madden', 'Viktor Runeberg', 'Dr. Stephen Albert', \"Hsi P'eng\"], 'correct_answer': 3}, {'question': 'What does Dr. Yu Tsun have that could compromise him?', 'options': ['A letter from Viktor Runeberg', 'A revolver with a single bullet', \"Keys to Runeberg's office\", 'All of the above'], 'correct_answer': 4}, {'question': 'Why does Dr. Yu Tsun decide to visit Stephen Albert?', 'options': ['To seek refuge', \"To discuss the novel by Ts'ui Pen\", 'To pass on the name of the artillery park', 'To learn about the garden of forking paths'], 'correct_answer': 3}, {'question': 'How does Dr. Yu Tsun ultimately convey the secret information to Berlin?', 'options': ['By sending a telegram', 'By calling on the phone', 'By killing Stephen Albert', 'Through a coded message in a newspaper'], 'correct_answer': 3}]\n"
     ]
    }
   ],
   "source": [
    "from app.llm.LLMClient import extract_questionary\n",
    "\n",
    "questionary = extract_questionary(text_result)\n",
    "print(questionary)"
   ]
  },
  {
   "cell_type": "code",
   "execution_count": null,
   "metadata": {},
   "outputs": [],
   "source": []
  },
  {
   "cell_type": "code",
   "execution_count": null,
   "metadata": {},
   "outputs": [],
   "source": []
  },
  {
   "cell_type": "code",
   "execution_count": null,
   "metadata": {},
   "outputs": [],
   "source": []
  }
 ],
 "metadata": {
  "kernelspec": {
   "display_name": ".venv",
   "language": "python",
   "name": "python3"
  },
  "language_info": {
   "codemirror_mode": {
    "name": "ipython",
    "version": 3
   },
   "file_extension": ".py",
   "mimetype": "text/x-python",
   "name": "python",
   "nbconvert_exporter": "python",
   "pygments_lexer": "ipython3",
   "version": "3.12.5"
  }
 },
 "nbformat": 4,
 "nbformat_minor": 2
}
