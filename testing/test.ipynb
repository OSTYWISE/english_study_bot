{
 "cells": [
  {
   "cell_type": "code",
   "execution_count": 1,
   "metadata": {},
   "outputs": [],
   "source": [
    "import os \n",
    "dir_path = '/Users/ostywise/Downloads/EdUnion/EduBot'\n",
    "os.chdir(dir_path)"
   ]
  },
  {
   "cell_type": "code",
   "execution_count": 2,
   "metadata": {},
   "outputs": [],
   "source": [
    "from src.llm.LLMClient import TogetherAIClient\n",
    "from src.llm.LLMFormater import TaskOutput\n",
    "from src.llm.prompter import Prompter\n",
    "from itertools import combinations"
   ]
  },
  {
   "cell_type": "code",
   "execution_count": null,
   "metadata": {},
   "outputs": [],
   "source": [
    "TOGETHER_AI_API_KEY = 'tgp_v1_MYSvN6Zd6Vx579knSU4fqWfoSoWXoD053JrnvPab6rM'\n",
    "topic = 'linear algebra'"
   ]
  },
  {
   "cell_type": "code",
   "execution_count": null,
   "metadata": {},
   "outputs": [],
   "source": [
    "url = \"https://api.together.xyz/v1/chat/completions\"\n",
    "headers = {\n",
    "    \"Authorization\": f\"Bearer {TOGETHER_AI_API_KEY}\",\n",
    "    \"Content-Type\": \"application/json\"\n",
    "}\n",
    "payload = {\n",
    "    \"model\": \"deepseek-ai/DeepSeek-R1-Distill-Llama-70B-free\",\n",
    "    \"messages\": [{\"role\": \"user\", \"content\": f\"Generate a challenging {topic} task for a student.\"}],\n",
    "    \"max_tokens\": 200\n",
    "}"
   ]
  },
  {
   "cell_type": "code",
   "execution_count": 2,
   "metadata": {},
   "outputs": [],
   "source": [
    "os.environ['TOGETHER_AI_API_KEY'] = 'tgp_v1_MYSvN6Zd6Vx579knSU4fqWfoSoWXoD053JrnvPab6rM'"
   ]
  },
  {
   "cell_type": "code",
   "execution_count": 4,
   "metadata": {},
   "outputs": [],
   "source": [
    "together_client = TogetherAIClient(api_key=os.environ.get('TOGETHER_AI_API_KEY', 'No key'))\n",
    "model_name = \"deepseek-ai/DeepSeek-R1-Distill-Llama-70B-free\"\n",
    "prompter = Prompter()"
   ]
  },
  {
   "cell_type": "code",
   "execution_count": 11,
   "metadata": {},
   "outputs": [],
   "source": [
    "topic = \"Производные\"\n",
    "subtopic = \"Производные от многочленов\"\n",
    "task_type = \"Закрытый ответ\"\n",
    "difficulty = \"Сложный\"\n",
    "task_prompt = prompter.task_generation_prompt(\"data/prompts/base_create_question.txt\", topic, subtopic, task_type, difficulty)"
   ]
  },
  {
   "cell_type": "code",
   "execution_count": 12,
   "metadata": {},
   "outputs": [
    {
     "name": "stdout",
     "output_type": "stream",
     "text": [
      "\n",
      "Ты профессиональный учитель математики в школе. Твоя задача заключается в подготовке ученика к экзамену по Производные. \n",
      "\n",
      "Сейчас ученик изучает Производные от многочленов. Твоя задача заключается в том, чтобы сгенерировать пример в формате Закрытый ответ, состоящий из вопроса (или задачи) и четкого ответа на него.\n",
      "Каждая задача имеет один из трех уровней сложности: [\"Простой\", \"Средний\", \"Сложный\"]. Сгенерируй пример сложности Сложный.\n",
      "\n",
      "\n"
     ]
    }
   ],
   "source": [
    "print(task_prompt)"
   ]
  },
  {
   "cell_type": "code",
   "execution_count": 13,
   "metadata": {},
   "outputs": [],
   "source": [
    "# Generate new node for the DAG\n",
    "full_response_node, json_output_node = together_client.generate_json_output(task_prompt, model_name, TaskOutput, debug_mode=False)"
   ]
  },
  {
   "cell_type": "code",
   "execution_count": 14,
   "metadata": {},
   "outputs": [
    {
     "name": "stdout",
     "output_type": "stream",
     "text": [
      "<think>\n",
      "Хорошо, я получил задание на подготовку примера для ученика, изучающего производные от многочленов. Уровень сложности задачи должен быть \"Сложный\". \n",
      "\n",
      "Первым делом, мне нужно определить, что делает задачу сложной. Обычно это связано с применением производных в реальных задачах или с более сложными функциями, которые требуют продвинутых методов дифференцирования, таких как использование правил Лопиталя или дифференцирования сложных составных функций.\n",
      "\n",
      "Поскольку ученик изучает производные от многочленов, я могу использовать многочлен высокой степени или добавить дополнительные элементы, такие как параметрические функции, для повышения сложности. Например, можно предложить найти производную функции, определенной через параметр, и затем использовать это для нахождения максимального значения.\n",
      "\n",
      "Далее, я подумаю о том, как сформулировать вопрос. Он должен быть четким и требовать применения нескольких шагов для решения. Возможно, стоит добавить поиск критических точек или использования производной для анализа функции.\n",
      "\n",
      "Также важно, чтобы ответ был подробным и включал все шаги решения, чтобы ученик мог понять процесс. Возможно, стоит разбить ответ на части: сначала найти производную, затем найти критические точки, затем определить максимальное значение.\n",
      "\n",
      "Теперь я подумаю о конкретной функции. Допустим, функция f(x) = x^4 - 8x^3 + 24x^2 - 32x + 16. Это многочлен четвертой степени, и его производная будет кубическим многочленом, что добавляет сложности. Затем, возможно, задать вопрос о нахождении максимального значения функции на определённом интервале, например, [1, 5].\n",
      "\n",
      "Для ответа я последую следующим шагам:\n",
      "1. Найду первую производную функции.\n",
      "2. Приравняю производную к нулю и решу уравнение, чтобы найти критические точки.\n",
      "3. Проверю, какие из этих точек находятся в заданном интервале.\n",
      "4. Оценю функцию в критических точках и на концах интервала, чтобы определить максимальное значение.\n",
      "\n",
      "Таким образом, задача будет требовать не только нахождения производной, но и её применения для анализа функции, что соответствует уровню \"Сложный\".\n",
      "\n",
      "Теперь я сформулирую вопрос и подготовлю ответ, следуя этим шагам.\n",
      "</think>\n",
      "\n",
      "```json\n",
      "{\n",
      "  \"level\": \"Сложный\",\n",
      "  \"question\": \"Найдите производную функции f(x) = x^4 - 8x^3 + 24x^2 - 32x + 16 и определите, где функция достигает максимального значения на интервале [1, 5].\",\n",
      "  \"answer\": \"Производная функции f(x) = 4x^3 - 24x^2 + 48x - 32. Для нахождения максимального значения на интервале [1, 5], найдите критические точки, решив 4x^3 - 24x^2 + 48x - 32 = 0. Это уравнение имеет корни x = 2 и x = 4 (двойной корень). Оцените функцию в этих точках и на концах интервала: f(1) = 1 - 8 + 24 - 32 + 16 = 1, f(2) = 16 - 64 + 96 - 64 + 16 = 0, f(4) = 256 - 512 + 384 - 128 + 16 = 16, f(5) = 625 - 1000 + 600 - 160 + 16 = 81. Максимальное значение равно 81 в точке x = 5.\"\n",
      "}\n",
      "```\n"
     ]
    }
   ],
   "source": [
    "print(full_response_node)"
   ]
  },
  {
   "cell_type": "code",
   "execution_count": 15,
   "metadata": {},
   "outputs": [
    {
     "data": {
      "text/plain": [
       "{'error': 'some_error'}"
      ]
     },
     "execution_count": 15,
     "metadata": {},
     "output_type": "execute_result"
    }
   ],
   "source": [
    "json_output_node"
   ]
  },
  {
   "cell_type": "code",
   "execution_count": null,
   "metadata": {},
   "outputs": [],
   "source": []
  }
 ],
 "metadata": {
  "kernelspec": {
   "display_name": "Python (myenv)",
   "language": "python",
   "name": "myenv"
  },
  "language_info": {
   "codemirror_mode": {
    "name": "ipython",
    "version": 3
   },
   "file_extension": ".py",
   "mimetype": "text/x-python",
   "name": "python",
   "nbconvert_exporter": "python",
   "pygments_lexer": "ipython3",
   "version": "3.12.5"
  }
 },
 "nbformat": 4,
 "nbformat_minor": 2
}
