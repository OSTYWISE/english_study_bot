{
 "cells": [
  {
   "cell_type": "code",
   "execution_count": 1,
   "metadata": {},
   "outputs": [],
   "source": [
    "import os\n",
    "import uuid\n",
    "import json\n",
    "from tqdm.notebook import tqdm\n",
    "import pandas as pd\n",
    "from dotenv import load_dotenv\n",
    "from typing import Type, List\n",
    "\n",
    "from app.database.models import async_main, drop_all_tables, async_session\n",
    "from app.database.requests import get_student, get_all, set_litwork\n",
    "from app.llm.LLMClient import generate_questionary, generate_idea, discuss_litwork\n",
    "from app.utils import question_to_text, has_litwork\n",
    "import app.keyboards as kb\n",
    "load_dotenv()\n",
    "\n",
    "from app.database.models import Base, Student, Litwork, Topic\n",
    "\n",
    "import warnings\n",
    "warnings.filterwarnings('ignore')\n"
   ]
  },
  {
   "cell_type": "markdown",
   "metadata": {},
   "source": [
    "### Добавляем данные в базу данных"
   ]
  },
  {
   "cell_type": "code",
   "execution_count": 2,
   "metadata": {},
   "outputs": [],
   "source": [
    "load_dotenv()\n",
    "\n",
    "TOGETHER_API_KEY = os.getenv(\"TOGETHER_API_KEY\")\n",
    "URL = \"https://llm.api.cloud.yandex.net/foundationModels/v1/completion\"\n",
    "CATALOGUE_ID =  os.getenv(\"YC_CATALOGUE_ID\")\n",
    "IAM_TOKEN = os.getenv(\"IAM_TOKEN\")\n",
    "OAUTH_TOKEN = os.getenv(\"YANDEX_OAUTH_TOKEN\")\n",
    "user_text = \"Сгенерируй задачу по математике с решением для ученика 11 класса\"\n",
    "\n",
    "async def set_dict_values(model: Type[Base], values):\n",
    "    for val in values:\n",
    "        await set_const_value(model, val)\n",
    "\n",
    "async def apply_func_to_list(func, values, **kwargs):\n",
    "    for val in values:\n",
    "        await func(name=val, **kwargs)\n",
    "\n",
    "def orm_list_to_df(orm_list: list | None) -> pd.DataFrame | None:\n",
    "    if not orm_list:\n",
    "        return None\n",
    "    \n",
    "    model_class = orm_list[0].__class__\n",
    "    column_names = [column.name for column in model_class.__table__.columns]\n",
    "\n",
    "    table = []\n",
    "    for obj in orm_list:\n",
    "        row = {col: getattr(obj, col) for col in column_names}\n",
    "        table.append(row)\n",
    "\n",
    "    return pd.DataFrame(table)"
   ]
  },
  {
   "cell_type": "code",
   "execution_count": 3,
   "metadata": {},
   "outputs": [
    {
     "name": "stdout",
     "output_type": "stream",
     "text": [
      "[{'title': 'Blue Beard', 'author': 'Charles Perrault', 'path': 'data/blue_beard.txt'}, {'title': 'The Garden of Forking Paths', 'author': 'Jorge Luis Borges', 'path': 'data/borges_garden_fantastic.txt'}, {'title': 'The Theory of Adaptation', 'author': \"Linda Hutcheon with Siobhan O'Flynn\", 'path': 'data/theory_of_adaptation.txt'}, {'title': 'The Cycle of Socialization', 'author': 'Bobbie Harro', 'path': 'data/cycle_of_socialization.txt'}]\n"
     ]
    }
   ],
   "source": [
    "with open('app/database/literary_works.json', 'r') as f:\n",
    "    litworks = json.load(f)\n",
    "\n",
    "print(litworks)"
   ]
  },
  {
   "cell_type": "code",
   "execution_count": 4,
   "metadata": {},
   "outputs": [
    {
     "name": "stdout",
     "output_type": "stream",
     "text": [
      "All tables dropped successfully.\n"
     ]
    }
   ],
   "source": [
    "await drop_all_tables()\n",
    "await async_main()\n",
    "\n",
    "# Litworks:\n",
    "for litwork in litworks:\n",
    "    await set_litwork(litwork['title'], litwork['author'], litwork['path'])"
   ]
  },
  {
   "cell_type": "markdown",
   "metadata": {},
   "source": [
    "#### Смотрим на данные в базе"
   ]
  },
  {
   "cell_type": "code",
   "execution_count": 5,
   "metadata": {},
   "outputs": [
    {
     "data": {
      "text/html": [
       "<div>\n",
       "<style scoped>\n",
       "    .dataframe tbody tr th:only-of-type {\n",
       "        vertical-align: middle;\n",
       "    }\n",
       "\n",
       "    .dataframe tbody tr th {\n",
       "        vertical-align: top;\n",
       "    }\n",
       "\n",
       "    .dataframe thead th {\n",
       "        text-align: right;\n",
       "    }\n",
       "</style>\n",
       "<table border=\"1\" class=\"dataframe\">\n",
       "  <thead>\n",
       "    <tr style=\"text-align: right;\">\n",
       "      <th></th>\n",
       "      <th>id</th>\n",
       "      <th>title</th>\n",
       "      <th>author</th>\n",
       "      <th>path</th>\n",
       "    </tr>\n",
       "  </thead>\n",
       "  <tbody>\n",
       "    <tr>\n",
       "      <th>0</th>\n",
       "      <td>1</td>\n",
       "      <td>Blue Beard</td>\n",
       "      <td>Charles Perrault</td>\n",
       "      <td>data/blue_beard.txt</td>\n",
       "    </tr>\n",
       "    <tr>\n",
       "      <th>1</th>\n",
       "      <td>2</td>\n",
       "      <td>The Garden of Forking Paths</td>\n",
       "      <td>Jorge Luis Borges</td>\n",
       "      <td>data/borges_garden_fantastic.txt</td>\n",
       "    </tr>\n",
       "    <tr>\n",
       "      <th>2</th>\n",
       "      <td>3</td>\n",
       "      <td>The Theory of Adaptation</td>\n",
       "      <td>Linda Hutcheon with Siobhan O'Flynn</td>\n",
       "      <td>data/theory_of_adaptation.txt</td>\n",
       "    </tr>\n",
       "    <tr>\n",
       "      <th>3</th>\n",
       "      <td>4</td>\n",
       "      <td>The Cycle of Socialization</td>\n",
       "      <td>Bobbie Harro</td>\n",
       "      <td>data/cycle_of_socialization.txt</td>\n",
       "    </tr>\n",
       "  </tbody>\n",
       "</table>\n",
       "</div>"
      ],
      "text/plain": [
       "   id                        title                               author  \\\n",
       "0   1                   Blue Beard                     Charles Perrault   \n",
       "1   2  The Garden of Forking Paths                    Jorge Luis Borges   \n",
       "2   3     The Theory of Adaptation  Linda Hutcheon with Siobhan O'Flynn   \n",
       "3   4   The Cycle of Socialization                         Bobbie Harro   \n",
       "\n",
       "                               path  \n",
       "0               data/blue_beard.txt  \n",
       "1  data/borges_garden_fantastic.txt  \n",
       "2     data/theory_of_adaptation.txt  \n",
       "3   data/cycle_of_socialization.txt  "
      ]
     },
     "metadata": {},
     "output_type": "display_data"
    }
   ],
   "source": [
    "objects = await get_all(Litwork)\n",
    "objects_df = orm_list_to_df(objects)\n",
    "display(objects_df)"
   ]
  },
  {
   "cell_type": "code",
   "execution_count": 6,
   "metadata": {},
   "outputs": [],
   "source": [
    "# student = await get_student(738490613)\n",
    "# student.topic_id, student.difficulty_id, student.task_type_id, student.exam_id"
   ]
  },
  {
   "cell_type": "code",
   "execution_count": null,
   "metadata": {},
   "outputs": [],
   "source": []
  },
  {
   "cell_type": "code",
   "execution_count": null,
   "metadata": {},
   "outputs": [],
   "source": []
  },
  {
   "cell_type": "code",
   "execution_count": null,
   "metadata": {},
   "outputs": [],
   "source": []
  },
  {
   "cell_type": "code",
   "execution_count": null,
   "metadata": {},
   "outputs": [],
   "source": []
  }
 ],
 "metadata": {
  "kernelspec": {
   "display_name": ".venv",
   "language": "python",
   "name": "python3"
  },
  "language_info": {
   "codemirror_mode": {
    "name": "ipython",
    "version": 3
   },
   "file_extension": ".py",
   "mimetype": "text/x-python",
   "name": "python",
   "nbconvert_exporter": "python",
   "pygments_lexer": "ipython3",
   "version": "3.12.5"
  }
 },
 "nbformat": 4,
 "nbformat_minor": 2
}
